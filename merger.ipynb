{
 "cells": [
  {
   "cell_type": "code",
   "execution_count": 14,
   "id": "623b8562-3a3b-49a8-aec7-9d80d2496249",
   "metadata": {
    "tags": []
   },
   "outputs": [
    {
     "name": "stdout",
     "output_type": "stream",
     "text": [
      "Merging of Excel files is complete. The merged file is available at: LIGUE1merged.xlsx\n"
     ]
    }
   ],
   "source": [
    "import pandas as pd\n",
    "import glob\n",
    "\n",
    "# Access the loaded Excel files\n",
    "loaded_files = ['Lig18scraped_data.xlsx', 'Lig19scraped_data.xlsx', 'Lig20scraped_data.xlsx', 'Lig21scraped_data.xlsx', 'Lig22scraped_data.xlsx']  # Replace [...] with the variable containing the loaded Excel files\n",
    "\n",
    "# Create an empty dictionary to store the data for each stat type\n",
    "merged_data = {'Sheet1': [], 'Sheet2': [], 'Sheet3': [], 'Sheet4': []}\n",
    "\n",
    "# Iterate over each loaded file\n",
    "for file in loaded_files:\n",
    "    try:\n",
    "        # Read each sheet of the Excel file into a separate DataFrame\n",
    "        sheets_dict = pd.read_excel(file, sheet_name=None)\n",
    "        \n",
    "        # Extract the season from the file name\n",
    "        season = file.split('Lig')[1].split('scraped_data')[0]  # Extract the season from the file name\n",
    "        \n",
    "        # Get the starting and ending years of the season\n",
    "        start_year = season[:2]\n",
    "        end_year = season[2:]\n",
    "        \n",
    "         # Generate the season in the format \"18/19\" or \"19/20\"\n",
    "        season_label = f\"{start_year}/{int(start_year) + 1:02d}\"\n",
    "        \n",
    "        # Iterate over each sheet\n",
    "        for sheet_name, df in sheets_dict.items():\n",
    "            # Check if the DataFrame has data\n",
    "            if not df.empty:\n",
    "                # Add a new column \"Season\" with the corresponding season information\n",
    "                df['Season'] = season_label\n",
    "                \n",
    "                # Append the data to the corresponding stat type in the merged_data dictionary\n",
    "                merged_data[sheet_name].append(df)\n",
    "    \n",
    "    except Exception as e:\n",
    "        print(f\"Error occurred while reading file: {file}\")\n",
    "        print(e)\n",
    "\n",
    "# Create a new Excel file to store the merged data\n",
    "output_file = 'LIGUE1merged.xlsx'\n",
    "writer = pd.ExcelWriter(output_file, engine='xlsxwriter')\n",
    "\n",
    "# Write each stat type's data to a separate sheet in the output file\n",
    "for sheet_name, data_list in merged_data.items():\n",
    "    if data_list:\n",
    "        try:\n",
    "            merged_df = pd.concat(data_list)\n",
    "            merged_df.to_excel(writer, sheet_name=sheet_name, index=False)\n",
    "        except Exception as e:\n",
    "            print(f\"Error occurred while writing sheet: {sheet_name}\")\n",
    "            print(e)\n",
    "\n",
    "# Save and close the output file\n",
    "\n",
    "writer.close()\n",
    "\n",
    "# Print a message to indicate that the job is done\n",
    "print(\"Merging of Excel files is complete. The merged file is available at:\", output_file)\n"
   ]
  },
  {
   "cell_type": "code",
   "execution_count": null,
   "id": "2b9eff4c-68c3-4ca8-b20e-33e118eeb127",
   "metadata": {},
   "outputs": [],
   "source": []
  }
 ],
 "metadata": {
  "kernelspec": {
   "display_name": "Python 3 (ipykernel)",
   "language": "python",
   "name": "python3"
  },
  "language_info": {
   "codemirror_mode": {
    "name": "ipython",
    "version": 3
   },
   "file_extension": ".py",
   "mimetype": "text/x-python",
   "name": "python",
   "nbconvert_exporter": "python",
   "pygments_lexer": "ipython3",
   "version": "3.10.9"
  }
 },
 "nbformat": 4,
 "nbformat_minor": 5
}
